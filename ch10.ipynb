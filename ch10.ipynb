{
 "cells": [
  {
   "cell_type": "markdown",
   "metadata": {},
   "source": [
    "<div align=\"right\" style=\"text-align:right;\">\n",
    "        <a href=\"https://space.bilibili.com/71829576\">\n",
    "                <img style=\"width:400px;display:inline;\" width=\"400px\" src=\"https://images-1252829441.cos.ap-guangzhou.myqcloud.com/img/20200511155258.png\">\n",
    "        </a>\n",
    "</div>"
   ]
  },
  {
   "cell_type": "markdown",
   "metadata": {},
   "source": [
    "<div style=\"font-family:STKaiti;font-size:28px;font-weight:Bold;color:green;\">\n",
    "第十讲：模块\n",
    "</div>"
   ]
  },
  {
   "cell_type": "markdown",
   "metadata": {},
   "source": [
    "<div style=\"font-family:STKaiti;font-size:22px;line-height:2\">\n",
    "\n",
    "- 创建模块\n",
    "- 导入和使用模块\n",
    "- 创建和使用包\n",
    "- 添加模块搜索路径\n",
    "- 安装第三方库\n",
    "- 上节课练习讲解\n",
    "\n",
    "\n",
    "\n",
    "\n",
    "\n",
    "\n",
    "\n",
    "\n",
    "\n",
    "</div>"
   ]
  },
  {
   "cell_type": "markdown",
   "metadata": {},
   "source": [
    "<div style=\"font-family:STKaiti;font-size:26px;font-weight:Bold;color:black\">\n",
    "    <u> 一、创建模块</u>\n",
    "</div>"
   ]
  },
  {
   "cell_type": "markdown",
   "metadata": {},
   "source": [
    "<div style=\"font-family:STKaiti;font-size:22px;line-height:2\">\n",
    "\n",
    "使用模块的好处：\n",
    "\n",
    "- 提高我们代码的模块化程度，让代码变得更好维护\n",
    "- 通过模块的方式复用我们编写的函数和类，提高代码的复用率\n",
    "- 可以避免函数、类以及变量名的冲突\n",
    "\n",
    "\n",
    "\n",
    "</div>"
   ]
  },
  {
   "cell_type": "code",
   "execution_count": null,
   "metadata": {},
   "outputs": [],
   "source": [
    "# -*- coding: utf-8 -*-\n",
    "\n",
    "\"\"\"Example module docstrings.\n",
    "\n",
    "This module contains a two-dimensional vector class.\n",
    "\n",
    "\"\"\"\n",
    "\n",
    "from math import acos,degrees\n",
    "\n",
    "class Vector(object):\n",
    "    def __init__(self,x,y):\n",
    "        self.x = x\n",
    "        self.y = y\n",
    "        self.size = (x**2 + y**2)**0.5\n",
    "    \n",
    "    def __repr__(self):\n",
    "        return \"vector(%.2f,%.2f)\" % (self.x,self.y)\n",
    "        \n",
    "    def __add__(self,vec):\n",
    "        x = self.x + vec.x\n",
    "        y = self.y + vec.y\n",
    "        return Vector(x,y)\n",
    "    \n",
    "    def __sub__(self,vec):\n",
    "        x = self.x - vec.x\n",
    "        y = self.y - vec.y\n",
    "        return Vector(x,y)\n",
    "    \n",
    "    def __mul__(self,multiplier):\n",
    "        if isinstance(multiplier,Vector):\n",
    "            ans = self.x * multiplier.x + self.y * multiplier.y\n",
    "            return ans\n",
    "        else:\n",
    "            x = self.x * multiplier\n",
    "            y = self.y * multiplier\n",
    "            return Vector(x,y)\n",
    "    \n",
    "    def __truediv__(self,vec):\n",
    "        radians = acos(self.__mul__(vec)/(self.size*vec.size))\n",
    "        return degrees(radians)\n",
    "    \n",
    "    def __rmul__(self,multiplier):\n",
    "        return self.__mul__(multiplier) "
   ]
  },
  {
   "cell_type": "markdown",
   "metadata": {},
   "source": [
    "<div style=\"font-family:STKaiti;font-size:26px;font-weight:Bold;color:black\">\n",
    "    <u> 二、导入和使用模块</u>\n",
    "</div>"
   ]
  },
  {
   "cell_type": "code",
   "execution_count": null,
   "metadata": {},
   "outputs": [],
   "source": [
    "# 第一种导入模块的方法: import + 模块名\n",
    "\n",
    "import two_dimensional_vector\n",
    "\n",
    "v = two_dimensional_vector.Vector(1,0)\n",
    "\n",
    "print(v)\n",
    "\n",
    "# 使用as关键字创建模块名的简称\n",
    "\n",
    "import two_dimensional_vector as tdv\n",
    "\n",
    "u = tdv.Vector(0,1)\n",
    "\n",
    "print(u)"
   ]
  },
  {
   "cell_type": "code",
   "execution_count": null,
   "metadata": {},
   "outputs": [],
   "source": [
    "# 第二种导入模块的方法： from ... import ...\n",
    "\n",
    "from two_dimensional_vector import Vector\n",
    "\n",
    "w = Vector(2,3)\n",
    "\n",
    "print(w)\n",
    "\n",
    "# 使用as关键字创建导入模块的属性的简称\n",
    "\n",
    "from two_dimensional_vector import Vector as Vec\n",
    "\n",
    "x = Vec(3,4)\n",
    "\n",
    "print(x)"
   ]
  },
  {
   "cell_type": "code",
   "execution_count": null,
   "metadata": {},
   "outputs": [],
   "source": [
    "# 第三种导入模块的方法： from ... import *\n",
    "\n",
    "from math import *\n",
    "\n",
    "print(exp(2))  # 计算 e^2\n",
    "\n",
    "print(log(10))  # 计算10的自然对数\n",
    "\n",
    "print(factorial(5))  # 计算5的阶乘"
   ]
  },
  {
   "cell_type": "markdown",
   "metadata": {},
   "source": [
    "<div style=\"font-family:STKaiti;font-size:26px;font-weight:Bold;color:black\">\n",
    "    <u> 三、创建和使用包</u>\n",
    "</div>"
   ]
  },
  {
   "cell_type": "code",
   "execution_count": null,
   "metadata": {},
   "outputs": [],
   "source": [
    "# 第一种导入方法\n",
    "\n",
    "from vectors.high_dimensional_vector import HighDimensionalVector\n",
    "\n",
    "hv = HighDimensionalVector(1,2,3,4)\n",
    "\n",
    "print(hv)\n",
    "\n",
    "# 第二种导入方法\n",
    "\n",
    "import vectors.high_dimensional_vector as hdv\n",
    "\n",
    "u = hdv.HighDimensionalVector(2,3,4,5)\n",
    "\n",
    "print(u)"
   ]
  },
  {
   "cell_type": "code",
   "execution_count": null,
   "metadata": {},
   "outputs": [],
   "source": [
    "# 从多层目录的包中导入:第一种方法\n",
    "\n",
    "from my_package.algo import algo\n",
    "\n",
    "print(algo.fibonacci_numbers(100))\n",
    "\n",
    "# 从多层目录的包中导入:第二种方法\n",
    "\n",
    "import my_package.algo.algo as ag\n",
    "\n",
    "print(ag.fibonacci_numbers(100))"
   ]
  },
  {
   "cell_type": "markdown",
   "metadata": {},
   "source": [
    "<div style=\"font-family:STKaiti;font-size:22px;line-height:2\">\n",
    "\n",
    "当使用 **from package import item** 这种形式的时候，对应的 item 既可以是包里面的子模块（子包），或者包里面定义的其他名称，比如函数，类或者变量。\n",
    "\n",
    "如果使用形如 **import item.subitem.subsubitem** 这种导入形式，除了最后一项，都必须是包，而最后一项则可以是模块或者是包，但是不可以是类，函数或者变量的名字。\n",
    "\n",
    "\n",
    "</div>"
   ]
  },
  {
   "cell_type": "markdown",
   "metadata": {},
   "source": [
    "<div style=\"font-family:STKaiti;font-size:26px;font-weight:Bold;color:black\">\n",
    "    <u> 四、添加模块搜索路径</u>\n",
    "</div>"
   ]
  },
  {
   "cell_type": "markdown",
   "metadata": {},
   "source": [
    "<div style=\"font-family:STKaiti;font-size:22px;line-height:2\">\n",
    "\n",
    "添加模块搜索路径的三种方法：\n",
    "\n",
    "- 暂时生效：在sys模块中增加搜索路径\n",
    "- 永久生效：将模块与包移动到site-packages文件夹\n",
    "- 永久生效：在site-packages文件夹内新建.pth文件，添加搜索路径(推荐)\n",
    "\n",
    "</div>"
   ]
  },
  {
   "cell_type": "markdown",
   "metadata": {},
   "source": [
    "<div style=\"font-family:STKaiti;font-size:26px;font-weight:Bold;color:black\">\n",
    "    <u> 五、安装第三方库</u>\n",
    "</div>"
   ]
  },
  {
   "cell_type": "markdown",
   "metadata": {},
   "source": [
    "<div style=\"font-family:STKaiti;font-size:22px;line-height:2\">\n",
    "\n",
    "有两种方法来安装第三方库，一种是python自带的pip命令，一种是anaconda下的conda命令，它们可以帮我们搜索、下载以及安装一些第三方库。\n",
    "\n",
    "为了加快pip的下载速度，我们可以为它添加一个国内的镜像源，常用的有清华大学的镜像源，地址为https://mirrors.tuna.tsinghua.edu.cn/help/pypi/\n",
    "    \n",
    "[Conda](https://link.zhihu.com/?target=https%3A//conda.io/docs/)是跨平台的包和环境管理器，可以安装和管理来自[Anaconda repository](https://link.zhihu.com/?target=https%3A//repo.anaconda.com/)以 [Anaconda Cloud](https://link.zhihu.com/?target=https%3A//anaconda.org/)的conda包。Pip安装Python包，而conda安装包可能包含用任何语言编写的软件的包。\n",
    "    \n",
    "conda清华大学镜像站地址：https://mirrors.tuna.tsinghua.edu.cn/help/anaconda/\n",
    "\n",
    "</div>"
   ]
  },
  {
   "cell_type": "markdown",
   "metadata": {},
   "source": [
    "<div style=\"font-family:STKaiti;font-size:26px;font-weight:Bold;color:black\">\n",
    "    <u> 六、上节课练习讲解</u>\n",
    "</div>"
   ]
  },
  {
   "cell_type": "markdown",
   "metadata": {},
   "source": [
    "<div style=\"font-family:STKaiti;font-size:22px;font-weight:Bold;color:blue\">\n",
    "1.设计一个分数类，分数类有分子和分母两个属性，支持加减乘除及乘方运算，相应的运算可以用加减乘除号及乘方符号表示(注：计算结果需要化简到分数的最简形式，即分子与分母互质)。\n",
    "</div>"
   ]
  },
  {
   "cell_type": "markdown",
   "metadata": {},
   "source": [
    "<div style=\"font-family:STKaiti;font-size:22px;line-height:2\">\n",
    "\n",
    "对于自然数$a,b$，设两个数的最大公约数为$gcd(a,b)$，则两个数的最小公倍数\n",
    "$$\n",
    "lcm(a,b)=\\frac{ab}{gcd(a,b)}\n",
    "$$\n",
    "\n",
    "\n",
    "\n",
    "</div>"
   ]
  },
  {
   "cell_type": "code",
   "execution_count": null,
   "metadata": {},
   "outputs": [],
   "source": [
    "from math import gcd\n",
    "\n",
    "class Fractions:\n",
    "    def __init__(self,numerator,denominator=1):\n",
    "        self.n = numerator\n",
    "        self.d = denominator\n",
    "    \n",
    "    def __repr__(self):\n",
    "        if self.d == 1:\n",
    "            return str(self.n)\n",
    "        else:\n",
    "            return \"%d/%d\" % (self.n,self.d)\n",
    "    \n",
    "    def __add__(self,fraction):\n",
    "        if isinstance(fraction,int):fraction = Fractions(fraction)\n",
    "        lcm = (self.d * fraction.d) // gcd(self.d,fraction.d)\n",
    "        n1 = self.n * (lcm // self.d)\n",
    "        n2 = fraction.n * (lcm // fraction.d)\n",
    "        new_n = n1 + n2\n",
    "        g = gcd(new_n,lcm)\n",
    "        return Fractions(new_n//g,lcm//g)\n",
    "    \n",
    "    def __radd__(self,fraction):\n",
    "        return self.__add__(fraction)\n",
    "    \n",
    "    def __sub__(self,fraction):\n",
    "        if isinstance(fraction,int):fraction = Fractions(fraction)\n",
    "        lcm = (self.d * fraction.d) // gcd(self.d,fraction.d)\n",
    "        n1 = self.n * (lcm // self.d)\n",
    "        n2 = fraction.n * (lcm // fraction.d)\n",
    "        new_n = n1 - n2\n",
    "        g = gcd(new_n,lcm)\n",
    "        return Fractions(new_n//g,lcm//g)\n",
    "\n",
    "    def __rsub__(self,fraction):\n",
    "        return -1 * self.__sub__(fraction)\n",
    "\n",
    "    def __mul__(self,fraction):\n",
    "        if isinstance(fraction,int):fraction = Fractions(fraction)\n",
    "        new_n = self.n * fraction.n\n",
    "        new_d = self.d * fraction.d\n",
    "        g = gcd(new_n,new_d)\n",
    "        return Fractions(new_n//g,new_d//g)\n",
    "\n",
    "    def __rmul__(self,fraction):\n",
    "        return self.__mul__(fraction)\n",
    "\n",
    "    def __truediv__(self,fraction):\n",
    "        if isinstance(fraction,int):fraction = Fractions(fraction)\n",
    "        new_n = self.n * fraction.d\n",
    "        new_d = self.d * fraction.n\n",
    "        g = gcd(new_n,new_d)\n",
    "        return Fractions(new_n//g,new_d//g)\n",
    "\n",
    "    def __rtruediv__(self,fraction):\n",
    "        fraction = self.__truediv__(fraction)\n",
    "        return Fractions(fraction.d,fraction.n)\n",
    "\n",
    "    def __pow__(self,power):\n",
    "        new_n = self.n ** power\n",
    "        new_d = self.d ** power\n",
    "        g = gcd(new_n,new_d)\n",
    "        return Fractions(new_n//g,new_d//g)"
   ]
  },
  {
   "cell_type": "code",
   "execution_count": null,
   "metadata": {},
   "outputs": [],
   "source": [
    "a = Fractions(1,2)\n",
    "\n",
    "b = Fractions(1,3)\n",
    "\n",
    "c = 2\n",
    "\n",
    "print(\"1/2 + 1/3 =\",a + b)\n",
    "\n",
    "print(\"2 + 1/3 =\",c + b)\n",
    "\n",
    "print(\"1/2 - 1/3 =\",a - b)\n",
    "\n",
    "print(\"2 - 1/3 =\",c - b)\n",
    "\n",
    "print(\"1/2 * 1/3 =\",a * b)\n",
    "\n",
    "print(\"2 * 1/3 =\",c * b)\n",
    "\n",
    "print(\"1/2 / 1/3 =\",a / b)\n",
    "\n",
    "print(\"2 / 1/3 =\",c / b)\n",
    "\n",
    "print(\"(1/2)**3 =\",a ** 3)"
   ]
  },
  {
   "cell_type": "code",
   "execution_count": null,
   "metadata": {},
   "outputs": [],
   "source": []
  }
 ],
 "metadata": {
  "kernelspec": {
   "display_name": "Python 3",
   "language": "python",
   "name": "python3"
  },
  "language_info": {
   "codemirror_mode": {
    "name": "ipython",
    "version": 3
   },
   "file_extension": ".py",
   "mimetype": "text/x-python",
   "name": "python",
   "nbconvert_exporter": "python",
   "pygments_lexer": "ipython3",
   "version": "3.7.6"
  }
 },
 "nbformat": 4,
 "nbformat_minor": 4
}
